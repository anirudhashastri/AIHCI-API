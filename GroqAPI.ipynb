{
 "cells": [
  {
   "cell_type": "code",
   "execution_count": 2,
   "metadata": {},
   "outputs": [],
   "source": [
    "#Importing the required libraries\n",
    "import os\n",
    "from groq import Groq\n",
    "from dotenv import load_dotenv\n",
    "import pyttsx3"
   ]
  },
  {
   "cell_type": "code",
   "execution_count": 3,
   "metadata": {},
   "outputs": [],
   "source": [
    "# Load .env file\n",
    "load_dotenv()\n",
    "\n",
    "# Access Groq API key\n",
    "api_key = os.getenv(\"GROQ_API_KEY\")"
   ]
  },
  {
   "cell_type": "code",
   "execution_count": 4,
   "metadata": {},
   "outputs": [],
   "source": [
    "# Create a Groq client instance\n",
    "client = Groq(\n",
    "    api_key=os.environ.get(\"GROQ_API_KEY\"),\n",
    ")"
   ]
  },
  {
   "cell_type": "code",
   "execution_count": 5,
   "metadata": {},
   "outputs": [],
   "source": [
    "# Initialize text-to-speech engine\n",
    "engine = pyttsx3.init()"
   ]
  },
  {
   "cell_type": "code",
   "execution_count": 8,
   "metadata": {},
   "outputs": [
    {
     "name": "stdout",
     "output_type": "stream",
     "text": [
      "Generated Content: The classic greeting! Hello World! It's great to meet you! Is there something I can help you with or would you like to chat about something in particular?\n"
     ]
    }
   ],
   "source": [
    "# Make a chat completion request\n",
    "chat_completion = client.chat.completions.create(\n",
    "    # Provide the prompt\n",
    "\n",
    "    # role: user or assistant (assistant is the default) \n",
    "    # content: the text of the message to be processed\n",
    "    \n",
    "    # Select between the commented content to see the different set of intesting interactions\n",
    "    # The default prompt is \"Hello World!\" which is the last commented 'content' in the message \n",
    "    # block below\n",
    " \n",
    "    messages=[\n",
    "        {\n",
    "            \"role\": \"user\",\n",
    "            #\"content\": \"Introduce lamma3.70b model and groq API and give the answer the way yoda talk!\",\n",
    "            #\"content\": \"Introduce lamma3.70b model and groq API\n",
    "            \"content\": \"Introduce lamma3.70b model and groq API in a conversational way without any font! between yoda and obiwan\",\n",
    "            #\"content\": \"Hello World!\",\n",
    "        }\n",
    "    ],\n",
    "    # The model used is Meta-Learning Large Language Model (LLAMA): llama3-70b\n",
    "    model=\"llama3-70b-8192\",\n",
    ")\n",
    "# Extract the generated content\n",
    "response_text = chat_completion.choices[0].message.content\n",
    "print(\"Generated Content:\", response_text)\n",
    "\n",
    "# Use TTS to speak the response\n",
    "engine.say(response_text)\n",
    "engine.runAndWait()"
   ]
  }
 ],
 "metadata": {
  "kernelspec": {
   "display_name": "HCIAPI",
   "language": "python",
   "name": "python3"
  },
  "language_info": {
   "codemirror_mode": {
    "name": "ipython",
    "version": 3
   },
   "file_extension": ".py",
   "mimetype": "text/x-python",
   "name": "python",
   "nbconvert_exporter": "python",
   "pygments_lexer": "ipython3",
   "version": "3.10.15"
  }
 },
 "nbformat": 4,
 "nbformat_minor": 2
}
